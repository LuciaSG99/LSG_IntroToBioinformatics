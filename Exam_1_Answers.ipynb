{
 "cells": [
  {
   "cell_type": "markdown",
   "metadata": {},
   "source": [
    "*Exam 1 Answers* / Author: **Lucia Sanchez Gonzalez**"
   ]
  },
  {
   "cell_type": "markdown",
   "metadata": {},
   "source": [
    "## PROBLEM 1"
   ]
  },
  {
   "cell_type": "markdown",
   "metadata": {},
   "source": [
    "* Copy the Locus_Germplasm_Phenotype_20130122.txt file into your copy of the Exams Git\n",
    "* Create a new Jupyter Notebook in your Exams folder called \"Exam_1_Answers\" using the 'bash' kernel \n",
    "* Do the rest of this exam inside of that the \"Exam_1_Answers\" Notebook\n"
   ]
  },
  {
   "cell_type": "markdown",
   "metadata": {},
   "source": [
    "## PROBLEM 2\n",
    "\n",
    "Create a directory listing command that shows:\n",
    "\n",
    "* the ownership of the file\n",
    "* it's file-size, in Megabytes (i.e. human readable)\n",
    "\n",
    "then:\n",
    "\n",
    "* in words (in a Markdown box), describe the _permissions_ on that file (read/write/execute) for users, groups, and \"anyone\""
   ]
  },
  {
   "cell_type": "code",
   "execution_count": null,
   "metadata": {},
   "outputs": [],
   "source": [
    "ls -lh "
   ]
  },
  {
   "cell_type": "markdown",
   "metadata": {},
   "source": [
    "**ls** is a command that allows us see the content of our current folder as a list of files and folders. The argument **-l** allows to see more information about the files like its owners, its size, the permissions, etc... and the argument **-h** allows to see the size of the files in Megabytes (human readable). \n",
    "\n",
    "For **users** (columns 2/3/4) the permissions of the file \"Locus_Germplasm_Phenotype_20130122.txt\" are:\n",
    "\n",
    "rw-: Users can read (r) and write (w) the file but they can't execute it because there is a \"-\" instead of a \"x\". \n",
    "\n",
    "For **groups** (colums 5/6/7) the permissions are:\n",
    "\n",
    "rw-: As in users, the groups can only read (r) and write (w) the file, but they can't execute (x) it.\n",
    "\n",
    "For **all** (colums 8/9/10) the permissions are:\n",
    "\n",
    "r--: They can only read the file (r) but they can't write (w) or execute it (x). "
   ]
  },
  {
   "cell_type": "markdown",
   "metadata": {},
   "source": [
    "## PROBLEM 3\n",
    "\n",
    "* Create a command that outputs only the \"header\" line of Locus_Germplasm_Phenotype_20130122.txt\n"
   ]
  },
  {
   "cell_type": "code",
   "execution_count": null,
   "metadata": {},
   "outputs": [],
   "source": [
    "head -1 Locus_Germplasm_Phenotype_20130122.txt"
   ]
  },
  {
   "cell_type": "markdown",
   "metadata": {},
   "source": [
    "The command **head** print the first \"X\" lines of the file we passed as a argument. By typing \"head -1 file\", it prints the first line (in this case, the header) of the file. "
   ]
  },
  {
   "cell_type": "markdown",
   "metadata": {},
   "source": [
    "## PROBLEM 4\n",
    "\n",
    "* Create a command that outputs the total number of lines in Locus_Germplasm_Phenotype_20130122.txt\n"
   ]
  },
  {
   "cell_type": "code",
   "execution_count": null,
   "metadata": {},
   "outputs": [],
   "source": [
    "wc -l Locus_Germplasm_Phenotype_20130122.txt"
   ]
  },
  {
   "cell_type": "markdown",
   "metadata": {},
   "source": [
    "The command **wc** (word count) prints the number of words and lines of the file. The argument **-l** means that we only want to print the number of lines. "
   ]
  },
  {
   "cell_type": "markdown",
   "metadata": {},
   "source": [
    "## PROBLEM 5\n",
    "\n",
    "* Create a command that writes ONLY the data lines (i.e. excludes the header!) to a new file called \"Data_Only.csv\"\n",
    "* prove that your output file has the expected number of lines\n"
   ]
  },
  {
   "cell_type": "code",
   "execution_count": null,
   "metadata": {},
   "outputs": [],
   "source": [
    "grep -via \"Locus_name)\" Locus_Germplasm_Phenotype_20130122.txt > Data_Only.csv\n",
    "wc -l Data_Only.csv\n",
    "wc -l Locus_Germplasm_Phenotype_20130122.txt"
   ]
  },
  {
   "cell_type": "markdown",
   "metadata": {},
   "source": [
    "The command **grep** allows to search for a certain characters in a file. Here is used to search for the file's header, that we already know that it is the only line that starts by \"Locus_name)\". The argument **-i** (ignore-case) means that it doesn't matter if the letters are uppercase or lowercase; **-a** allows to process a binary file as if were text. We don't know the origin of the file so we use this option to make sure that it can be read by Linux; **-v** means that it will only select the lines that **don't have the match**, and by using this argument we can recolect all the lines except for the header. Then the output of that command is directed to a file called \"Data_Only.csv\" with the command \"**>**\". \n",
    "\n",
    "To test that the file has the expected number of lines, we use the commands wc -l Data_Only.csv and wc -l Locus_Germplasm_Phenotype_20130122.txt to see the number of lines of each file, and we can see that Data_Only.csv has one line less than Locus_Germplasm_Phenotype_20130122.txt which is expected because it doesn't have the header. \n",
    "\n"
   ]
  },
  {
   "cell_type": "markdown",
   "metadata": {},
   "source": [
    "## PROBLEM 6\n",
    "\n",
    "* Create a command that shows all of the lines that have a phenotype including the word \"root\"\n",
    "\n"
   ]
  },
  {
   "cell_type": "code",
   "execution_count": null,
   "metadata": {},
   "outputs": [],
   "source": [
    "grep -ina \"root\" Locus_Germplasm_Phenotype_20130122.txt "
   ]
  },
  {
   "cell_type": "markdown",
   "metadata": {},
   "source": [
    "The command **grep** prints the matches of the word/expression we type, in this case, \"root\". The arguments **-i** (ignore-case) and **-a** are explained in the previous problem; **-n** (line-number) prints the number of the line where each match is."
   ]
  },
  {
   "cell_type": "markdown",
   "metadata": {},
   "source": [
    "## PROBLEM 7\n",
    "\n",
    "* Create a command that writes the AGI Locus Code for every line that has a phenotype including the word \"root\" to a file called: **Root-associated-Loci.txt**\n"
   ]
  },
  {
   "cell_type": "code",
   "execution_count": 86,
   "metadata": {},
   "outputs": [],
   "source": [
    "grep -ina \"root\" Locus_Germplasm_Phenotype_20130122.txt | grep -E -iao \"at[1-5]g[0-9]{5}\" > Root-associated-Loci.txt"
   ]
  },
  {
   "cell_type": "markdown",
   "metadata": {},
   "source": [
    "Here we can use a **pipe** in which we use the output of the previous problem (obtain the lines that have a phenotype including the word \"root\") as a input to search the AGI Locus Code by using again grep and a regular expression. The argument **-E** allows to use extended regular expressions, like {number} which matchs exactly 'number' times; here [0-9]{5} means five digits between 0-9. The argument **-o** means \"only print the match\". Finally, we direct this output to a file we called \"Root-assicuated-Loci.txt\" with the command \">\". "
   ]
  },
  {
   "cell_type": "markdown",
   "metadata": {},
   "source": [
    "## PROBLEM 8\n",
    "\n",
    "* Create a command that writes the PubMed ID for every line that has a phenotype including the word \"root\" to a file called: **Root-associated-Publications.txt**\n"
   ]
  },
  {
   "cell_type": "code",
   "execution_count": 64,
   "metadata": {},
   "outputs": [],
   "source": [
    "grep -ina \"root\" Locus_Germplasm_Phenotype_20130122.txt | grep -E -iao \"[0-9]+$\" > Root-associated-Publications.txt"
   ]
  },
  {
   "cell_type": "markdown",
   "metadata": {},
   "source": [
    "We use the same pipe as the previous problem but changing the second regular expression. We know that the PubMed ID is in the last column so it will be in at the end of each line; by using the symbol \"$\" we make sure that it will only match the PubMed ID numbers."
   ]
  },
  {
   "cell_type": "markdown",
   "metadata": {},
   "source": [
    "## PROBLEM 9\n",
    "\n",
    "* _**Control experiment**_:  You would hypothesize that genes associated with roots **should be found on all chromosomes.**  Find a way (one or more commands) to test this hypothesis.  In this dataset, is the hypothesis true? "
   ]
  },
  {
   "cell_type": "code",
   "execution_count": null,
   "metadata": {},
   "outputs": [],
   "source": [
    "grep -ina \"root\" Locus_Germplasm_Phenotype_20130122.txt | grep -E -iao \"at(1|2|3|4|5)\" \n"
   ]
  },
  {
   "cell_type": "markdown",
   "metadata": {},
   "source": [
    "First we search for the lines that have \"root\" in their phenotype by using the same command that in the previous exercises. Then, with a pipe, we use that output to search in all the chromosomes by using that regular expression. The symbol \"|\" in the regular expression, allows us to search words that match with at1,at2,at3,at4 or at5. When we execute this command, we can see that our hypothesis is true, genes associated with roots are found on the five chromosomes. "
   ]
  },
  {
   "cell_type": "markdown",
   "metadata": {},
   "source": [
    "## PROBLEM 10\n",
    "\n",
    "* If your control experiment shows genes on every chromosome, then you can skip this question!  (you answered Problem 9 correctly!)\n",
    "\n",
    "*  If your control experiment shows genes only on one or two chromosomes, then you have to explain why... what could the problem be?  (I told you specifically to be careful about this problem!)\n"
   ]
  },
  {
   "cell_type": "markdown",
   "metadata": {},
   "source": [
    "*My control experiment shows genes on every chromosome.*\n"
   ]
  },
  {
   "cell_type": "markdown",
   "metadata": {},
   "source": [
    "## Problem 11\n",
    "\n",
    "* 'git commit' and 'git push' your answers to your GitHub, then give me your GitHub username before you leave the class. I will clone your repositories and grade your answers.\n"
   ]
  }
 ],
 "metadata": {
  "kernelspec": {
   "display_name": "Bash",
   "language": "bash",
   "name": "bash"
  },
  "language_info": {
   "codemirror_mode": "shell",
   "file_extension": ".sh",
   "mimetype": "text/x-sh",
   "name": "bash"
  }
 },
 "nbformat": 4,
 "nbformat_minor": 2
}
